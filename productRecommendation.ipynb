{
 "cells": [
  {
   "cell_type": "markdown",
   "metadata": {},
   "source": [
    "#### Open up pickle file which contains the product dictionary of customer ratings."
   ]
  },
  {
   "cell_type": "code",
   "execution_count": 65,
   "metadata": {
    "collapsed": true
   },
   "outputs": [],
   "source": [
    "import pickle\n",
    "\n",
    "pkl_file = open('C:/Users/Michael/Desktop/productDict.pkl', 'rb')\n",
    "products = pickle.load(pkl_file)\n",
    "pkl_file.close()"
   ]
  },
  {
   "cell_type": "markdown",
   "metadata": {},
   "source": [
    "#### Returns the Pearson correlation coefficient for item1 and item2."
   ]
  },
  {
   "cell_type": "code",
   "execution_count": 66,
   "metadata": {
    "collapsed": true
   },
   "outputs": [],
   "source": [
    "from math import sqrt\n",
    "import numpy as np\n",
    "\n",
    "def pear(products,item1,item2):\n",
    "    # Get the list similar items\n",
    "    sim = {}\n",
    "    for item in products[item1]:\n",
    "        if item in products[item2]: sim[item] = 1\n",
    "    \n",
    "    # Find the number of elements\n",
    "    n = len(sim)\n",
    "\n",
    "    # if they are no ratings in common, return 0\n",
    "    if n == 0: return 0\n",
    "    \n",
    "    # Add up all the ratings\n",
    "    sum1 = sum([products[item1][user] for user in sim])\n",
    "    sum2 = sum([products[item2][user] for user in sim])\n",
    "\n",
    "    # Sum up the squares\n",
    "    sum1Sq = sum([pow(products[item1][user],2) for user in sim])\n",
    "    sum2Sq = sum([pow(products[item2][user],2) for user in sim])\n",
    "\n",
    "    # Sum up the products\n",
    "    pSum = sum([products[item1][user] * products[item2][user] for user in sim])\n",
    "\n",
    "    # Calculate Pearson coefficient \n",
    "    num = pSum - (sum1 * sum2 / n)\n",
    "    den = sqrt((sum1Sq - pow(sum1,2) / n) * (sum2Sq - pow(sum2,2) / n))\n",
    "    if den == 0: return 0\n",
    "    r = num / den\n",
    "    return r"
   ]
  },
  {
   "cell_type": "markdown",
   "metadata": {},
   "source": [
    "#### Find the similarity coefficient of two products using Pearson Correlation Coefficient algorithm."
   ]
  },
  {
   "cell_type": "code",
   "execution_count": 67,
   "metadata": {},
   "outputs": [
    {
     "data": {
      "text/plain": [
       "1.0"
      ]
     },
     "execution_count": 67,
     "metadata": {},
     "output_type": "execute_result"
    }
   ],
   "source": [
    "pear(products, 'Amazon.com: Dockers Original Khaki Classic Fit - Pleated, W38 L32, Charcoal Heather: Clothing', \n",
    "           'Amazon.com: Dockers Original Khaki Classic Fit - Pleated, W38 L34, Charcoal Heather: Clothing')"
   ]
  },
  {
   "cell_type": "markdown",
   "metadata": {},
   "source": [
    "#### Returns the best matches for a person from the products dictionary based on similarity coefficient."
   ]
  },
  {
   "cell_type": "code",
   "execution_count": 68,
   "metadata": {
    "collapsed": true
   },
   "outputs": [],
   "source": [
    "# Number of results and similarity function are optional params.\n",
    "def topMatches(products,person,n = 20,similarity = pear):\n",
    "    sim = [(similarity(products,person,other),other) for other in products if other != person]\n",
    "\n",
    "    # Sort the list so the highest scores appear at the top\n",
    "    sim.sort( )\n",
    "    sim.reverse( )\n",
    "    \n",
    "    return sim[0:n]"
   ]
  },
  {
   "cell_type": "markdown",
   "metadata": {},
   "source": [
    "#### Find products similar to 'Dockers Original Khaki Classic Fit...'"
   ]
  },
  {
   "cell_type": "code",
   "execution_count": 69,
   "metadata": {},
   "outputs": [
    {
     "data": {
      "text/plain": [
       "[(1.0, 'Hannah Montana Tote Bag with Wig and Assorted Accessories'),\n",
       " (1.0,\n",
       "  'Amazon.com: St. Christopher &quot;Ride with Me&quot; Motorcycle Medal--Keychain, BH010: Clothing'),\n",
       " (1.0, 'Amazon.com: Levi&#39;s Men&#39;s 550 Relaxed Fit Jean: Clothing'),\n",
       " (1.0,\n",
       "  'Amazon.com: JanSport Classics Series Superbreak Backpack (Alien Green): Sports &amp; Outdoors'),\n",
       " (1.0,\n",
       "  'Amazon.com: Dockers Original Khaki Pants Classic Fit by Levi&#39;s 40443 in Cement: 36WX28L: Clothing'),\n",
       " (1.0,\n",
       "  'Amazon.com: Dockers Original Khaki Classic Fit - Pleated, W44 L34, Charcoal Heather: Clothing'),\n",
       " (1.0,\n",
       "  'Amazon.com: Dockers Original Khaki Classic Fit - Pleated, W44 L32, Charcoal Heather: Clothing'),\n",
       " (1.0,\n",
       "  'Amazon.com: Dockers Original Khaki Classic Fit - Pleated, W44 L30, Charcoal Heather: Clothing'),\n",
       " (1.0,\n",
       "  'Amazon.com: Dockers Original Khaki Classic Fit - Pleated, W42 L36, Charcoal Heather: Clothing'),\n",
       " (1.0,\n",
       "  'Amazon.com: Dockers Original Khaki Classic Fit - Pleated, W42 L34, Charcoal Heather: Clothing'),\n",
       " (1.0,\n",
       "  'Amazon.com: Dockers Original Khaki Classic Fit - Pleated, W42 L34, Black: Clothing'),\n",
       " (1.0,\n",
       "  'Amazon.com: Dockers Original Khaki Classic Fit - Pleated, W42 L32, Black: Clothing'),\n",
       " (1.0,\n",
       "  'Amazon.com: Dockers Original Khaki Classic Fit - Pleated, W42 L30, Charcoal Heather: Clothing'),\n",
       " (1.0,\n",
       "  'Amazon.com: Dockers Original Khaki Classic Fit - Pleated, W40 L36, Midnight: Clothing'),\n",
       " (1.0,\n",
       "  'Amazon.com: Dockers Original Khaki Classic Fit - Pleated, W40 L36, Charcoal Heather: Clothing'),\n",
       " (1.0,\n",
       "  'Amazon.com: Dockers Original Khaki Classic Fit - Pleated, W40 L34, Charcoal Heather: Clothing'),\n",
       " (1.0,\n",
       "  'Amazon.com: Dockers Original Khaki Classic Fit - Pleated, W40 L32, Charcoal Heather: Clothing'),\n",
       " (1.0,\n",
       "  'Amazon.com: Dockers Original Khaki Classic Fit - Pleated, W40 L30, Charcoal Heather: Clothing'),\n",
       " (1.0,\n",
       "  'Amazon.com: Dockers Original Khaki Classic Fit - Pleated, W40 L29, Charcoal Heather: Clothing'),\n",
       " (1.0,\n",
       "  'Amazon.com: Dockers Original Khaki Classic Fit - Pleated, W38 L36, Charcoal Heather: Clothing')]"
      ]
     },
     "execution_count": 69,
     "metadata": {},
     "output_type": "execute_result"
    }
   ],
   "source": [
    "topMatches(products, 'Amazon.com: Dockers Original Khaki Classic Fit - Pleated, W38 L32, Charcoal Heather: Clothing')"
   ]
  },
  {
   "cell_type": "markdown",
   "metadata": {},
   "source": [
    "#### Return a dictionary of customers where each customer contains the product and the ratings given."
   ]
  },
  {
   "cell_type": "code",
   "execution_count": 70,
   "metadata": {
    "collapsed": true
   },
   "outputs": [],
   "source": [
    "import pandas as pd\n",
    "\n",
    "def loadAmazonItems():\n",
    "    # Get Amazon products\n",
    "    df = pd.read_csv('C:/Users/Michael/Desktop/clothing.csv')\n",
    "    df = df.rename(columns={'product/productId': 'pid', 'product/title': 'title', 'product/price': 'price', \n",
    "                            'review/userId': 'uid', 'review/profileName': 'profileName', 'review/helpfulness': 'helpfulness', \n",
    "                            'review/score': 'rating', 'review/time': 'time', 'review/summary': 'summary', 'review/text': 'text'})\n",
    "    \n",
    "    prefs = {}\n",
    "    rData = list(zip(df.profileName,df.title,df.rating))\n",
    "    for user, item, rating in rData:\n",
    "        prefs.setdefault(user, {})\n",
    "        prefs[user][item] = float(rating)\n",
    "    return prefs"
   ]
  },
  {
   "cell_type": "code",
   "execution_count": 71,
   "metadata": {
    "collapsed": true
   },
   "outputs": [],
   "source": [
    "prefs = loadAmazonItems()"
   ]
  },
  {
   "cell_type": "markdown",
   "metadata": {},
   "source": [
    "#### Get recommendations based on similar users' preferences."
   ]
  },
  {
   "cell_type": "code",
   "execution_count": 72,
   "metadata": {
    "collapsed": true
   },
   "outputs": [],
   "source": [
    "def getRecommendations(products,product,similarity=pear):\n",
    "    totals = {}\n",
    "    simSums = {}\n",
    "    for other in products:\n",
    "        # don't compare product that person has seen\n",
    "        if other == product: continue\n",
    "        sim = similarity(products,product,other)\n",
    "\n",
    "        # ignore scores of zero or lower\n",
    "        if sim <= 0: continue\n",
    "        for user in products[other]:\n",
    "\n",
    "            # only score products I haven't seen yet\n",
    "            if user not in products[product] or products[product][user] == 0:\n",
    "                # Similarity * Score\n",
    "                totals.setdefault(user,0)\n",
    "                totals[user] += products[other][user] * sim\n",
    "                # Sum of similarities\n",
    "                simSums.setdefault(user,0)\n",
    "                simSums[user] += sim\n",
    "\n",
    "    # Create the normalized list\n",
    "    rankings=[(total/simSums[user],user) for user,total in totals.items( )]\n",
    "\n",
    "    # Return the sorted list\n",
    "    rankings.sort( )\n",
    "    rankings.reverse( )\n",
    "    return rankings"
   ]
  },
  {
   "cell_type": "code",
   "execution_count": 73,
   "metadata": {
    "collapsed": true
   },
   "outputs": [],
   "source": [
    "def calculateSimilarItems(products,n = 20):\n",
    "    # Create a dictionary of items showing which other items they\n",
    "    # are most similar to.\n",
    "    result = {}\n",
    "    \n",
    "    print('Processing similarities for %d items...' % len(products))\n",
    "    for item in products:\n",
    "        # Find the most similar items to this one\n",
    "        scores = topMatches(products,item,n = n,similarity = pear)\n",
    "        result[item] = scores\n",
    "    print('DONE')\n",
    "    return result"
   ]
  },
  {
   "cell_type": "markdown",
   "metadata": {},
   "source": [
    "#### Get recommendations based on similar items."
   ]
  },
  {
   "cell_type": "code",
   "execution_count": 74,
   "metadata": {
    "collapsed": true
   },
   "outputs": [],
   "source": [
    "def getRecommendedItems(products,itemMatch,user):\n",
    "    userRatings = products[user]\n",
    "    scores = {}\n",
    "    totalSim = {}\n",
    "    rankings = []\n",
    "    \n",
    "    # Loop over each user and obtain items rated\n",
    "    for (item,rating) in userRatings.items( ):\n",
    "        # Loop over items similar to this one\n",
    "        for (similarity,item2) in itemMatch[item]:\n",
    "            # Ignore if this user has already rated this item\n",
    "            if item2 in userRatings: continue\n",
    "\n",
    "            # Weighted sum of rating times similarity\n",
    "            scores.setdefault(item2,0)\n",
    "            scores[item2] += similarity * rating\n",
    "            \n",
    "            # Take the sum of similarities for that item\n",
    "            totalSim.setdefault(item2,0)\n",
    "            totalSim[item2] += similarity\n",
    "            \n",
    "    # Divide each weighted score by the total sum of similaries to get an average\n",
    "    for item, score in scores.items():\n",
    "        # Ignore ratings of 0 to avoid divide by zero\n",
    "        if totalSim[item] == 0: continue\n",
    "        rankings.append((score / totalSim[item],item))\n",
    "        \n",
    "    #rankings=[(score/totalSim[item],item) for item,score in scores.items( )]\n",
    "    \n",
    "    # Return the rankings from highest to lowest\n",
    "    rankings.sort( )\n",
    "    rankings.reverse( )\n",
    "    return rankings"
   ]
  },
  {
   "cell_type": "code",
   "execution_count": 75,
   "metadata": {},
   "outputs": [
    {
     "data": {
      "text/plain": [
       "{'Amazon.com: American Apparel Spandex Jersey Yoga Pant (8300), Size: Large, Color: Heather Grey: Clothing': 4.0,\n",
       " 'Amazon.com: Eagle Creek Travel Gear Pack-It Medium/Large Compression Sac Set: Clothing': 1.0,\n",
       " 'Amazon.com: Exquisite Form Women&#39;s Front Close Cotton Posture Bra #5100531: Clothing': 5.0,\n",
       " 'Amazon.com: Glamorise Sport Soft Cup Superior Support Bra G-1006: Clothing': 2.0,\n",
       " 'Amazon.com: Hufflepuff House Scarf: Clothing': 5.0,\n",
       " 'Amazon.com: JanSport Classics Series Superbreak Backpack (Alien Green): Sports &amp; Outdoors': 5.0,\n",
       " 'Amazon.com: Ladies&#39; Jersey Tee Shirt: Clothing': 2.0,\n",
       " 'Amazon.com: OnGossamer Women&#39;s Mesh Bump It Up Bra: Clothing': 4.0,\n",
       " 'Amazon.com: Secret Wishes Maid Costume: Clothing': 2.0,\n",
       " 'Amazon.com: Speedo Women&#39;s Lycra Tribal Etching Geoback Swim Suit, Blue, Size 38: Clothing': 5.0}"
      ]
     },
     "execution_count": 75,
     "metadata": {},
     "output_type": "execute_result"
    }
   ],
   "source": [
    "prefs['Julia']"
   ]
  },
  {
   "cell_type": "markdown",
   "metadata": {},
   "source": [
    "#### Returns the first 20 products recommended to the customer 'Sara' based on other customers."
   ]
  },
  {
   "cell_type": "code",
   "execution_count": 76,
   "metadata": {
    "scrolled": false
   },
   "outputs": [
    {
     "data": {
      "text/plain": [
       "[(5.0, 'Vintage Retro Mirror Aviator Sunglass w/ free Pouch'),\n",
       " (5.0, 'High Sierra Water Bottle Sport Duffel'),\n",
       " (5.0, 'HARVEYS Seatbelt Zip Wallet'),\n",
       " (5.0, \"Girl High Seas Buccaneer Toddler Costume - Kid's Costumes\"),\n",
       " (5.0,\n",
       "  'Amazon.com: Women&#39;s Soft Lightweight Travel Money Belt - White: Clothing'),\n",
       " (5.0, 'Amazon.com: SPANX Power Panties Shapewear: Clothing'),\n",
       " (5.0,\n",
       "  'Amazon.com: JanSport Elefunk Metro Messenger Bag (Bubblegum): Clothing'),\n",
       " (5.0,\n",
       "  'Amazon.com: JanSport Elefunk Metro Messenger Bag (Blue Jean): Clothing'),\n",
       " (5.0, 'Amazon.com: Enell High Impact Sports Bra: Clothing'),\n",
       " (5.0, 'Amazon.com: Carhartt Men&#39;s Duck Coverall Quilted Lined: Clothing'),\n",
       " (5.0, 'Amazon.com: : Clothing'),\n",
       " (4.0, 'Amazon.com: V-Neck Katahdin Tek Pullover XXX-Large Black: Clothing'),\n",
       " (4.0, 'Amazon.com: V-Neck Katahdin Tek Pullover XX-Large Navy: Clothing'),\n",
       " (4.0, 'Amazon.com: V-Neck Katahdin Tek Pullover XX-Large Charcoal: Clothing'),\n",
       " (4.0, 'Amazon.com: V-Neck Katahdin Tek Pullover XX-Large Black: Clothing'),\n",
       " (4.0, 'Amazon.com: V-Neck Katahdin Tek Pullover X-Large Charcoal: Clothing'),\n",
       " (4.0, 'Amazon.com: V-Neck Katahdin Tek Pullover X-Large Black: Clothing'),\n",
       " (4.0, 'Amazon.com: V-Neck Katahdin Tek Pullover Small Black: Clothing'),\n",
       " (4.0, 'Amazon.com: V-Neck Katahdin Tek Pullover Medium Black: Clothing'),\n",
       " (4.0, 'Amazon.com: Unisex Metro Fleece Pullover SAGE XS: Clothing')]"
      ]
     },
     "execution_count": 76,
     "metadata": {},
     "output_type": "execute_result"
    }
   ],
   "source": [
    "getRecommendations(prefs, 'Julia')[0:20]"
   ]
  },
  {
   "cell_type": "code",
   "execution_count": 77,
   "metadata": {},
   "outputs": [
    {
     "name": "stdout",
     "output_type": "stream",
     "text": [
      "Processing similarities for 19194 items...\n",
      "DONE\n"
     ]
    }
   ],
   "source": [
    "itemsim = calculateSimilarItems(products)"
   ]
  },
  {
   "cell_type": "markdown",
   "metadata": {},
   "source": [
    "#### Returns the first 20 recommended products that are similar to the items that 'Sara' has rated"
   ]
  },
  {
   "cell_type": "code",
   "execution_count": 78,
   "metadata": {},
   "outputs": [
    {
     "data": {
      "text/plain": [
       "[(5.0, 'green sprouts 10 Pack Waterproof Absorbent Terry Bibs'),\n",
       " (5.0, 'ZANheadgear Desert Nylon Balaclava (Camouflage)'),\n",
       " (5.0, 'Superman Dress Up Set'),\n",
       " (5.0, 'Rothco Canvas Map Case'),\n",
       " (5.0, 'Robin Deluxe Muscle Chest Child Costume'),\n",
       " (5.0, 'Rear View Sunglasses'),\n",
       " (5.0, \"NEON 80's style PARTY SUNGLASSES with dark lens (12 pack)\"),\n",
       " (5.0, 'Men\\'s HeatGear&#174; Compression 7\" Shorts Bottoms by Under Armour'),\n",
       " (5.0, 'High Sierra Water Bottle Sport Duffel'),\n",
       " (5.0, 'Hannah Montana Tote Bag with Wig and Assorted Accessories'),\n",
       " (5.0, 'Gold Eyeglass Holder Fashion Chain By Apex Medical'),\n",
       " (5.0, \"Child's Heirloom Elephant Costume (Size:X-small 4-6)\"),\n",
       " (5.0, 'Child Pink Supergirl Costume'),\n",
       " (5.0,\n",
       "  'CHILD Police Officer Costume (Please see product details for accessories)'),\n",
       " (5.0, 'Bumkins Waterproof Supersized SuperBib, 6 - 24 Months'),\n",
       " (5.0, 'Boys Spider-Man Classic'),\n",
       " (5.0, \"Body Glove Aura Women's Long Sleeve Lycra Rash Guard\"),\n",
       " (5.0, 'Bald Head Wig'),\n",
       " (5.0, 'BABYBJORN Bib for Baby Carrier'),\n",
       " (4.0,\n",
       "  'Amazon.com: Levi&#39;s Men&#39;s 505 Straight (Regular) Fit Jean: Clothing')]"
      ]
     },
     "execution_count": 78,
     "metadata": {},
     "output_type": "execute_result"
    }
   ],
   "source": [
    "getRecommendedItems(prefs, itemsim, 'Julia')[0:20]"
   ]
  }
 ],
 "metadata": {
  "kernelspec": {
   "display_name": "Python 3",
   "language": "python",
   "name": "python3"
  },
  "language_info": {
   "codemirror_mode": {
    "name": "ipython",
    "version": 3
   },
   "file_extension": ".py",
   "mimetype": "text/x-python",
   "name": "python",
   "nbconvert_exporter": "python",
   "pygments_lexer": "ipython3",
   "version": "3.6.1"
  }
 },
 "nbformat": 4,
 "nbformat_minor": 2
}
